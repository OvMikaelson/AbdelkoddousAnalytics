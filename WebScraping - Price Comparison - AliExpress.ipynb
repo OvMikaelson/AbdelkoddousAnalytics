{
 "cells": [
  {
   "cell_type": "code",
   "execution_count": 1,
   "id": "eb6b4470",
   "metadata": {},
   "outputs": [],
   "source": [
    "import pandas as pd\n",
    "from bs4 import BeautifulSoup\n",
    "import requests\n",
    "from time import time\n",
    "import datetime"
   ]
  },
  {
   "cell_type": "code",
   "execution_count": 2,
   "id": "fdb87699",
   "metadata": {},
   "outputs": [],
   "source": [
    "aexurl = \"https://www.aliexpress.com/w/wholesale-gaming-table.html?spm=a2g0o.best.history.1.38502c25EIWTGQ\"\n",
    "headers = {\"User-Agent\": \"Mozilla/5.0 (Windows NT 10.0; Win64; x64) AppleWebKit/537.36 (KHTML, like Gecko) Chrome/120.0.0.0 Safari/537.36 OPR/106.0.0.0\", \"Accept-Encoding\":\"gzip, deflate\", \"Accept\":\"text/html,application/xhtml+xml,application/xml;q=0.9,*/*;q=0.8\", \"DNT\":\"1\",\"Connection\":\"close\", \"Upgrade-Insecure-Requests\":\"1\"}\n",
    "aexpage = requests.get(aexurl,headers=headers)\n",
    "aexcode = BeautifulSoup(aexpage.content, \"html.parser\")"
   ]
  },
  {
   "cell_type": "code",
   "execution_count": 3,
   "id": "eac1b404",
   "metadata": {},
   "outputs": [],
   "source": [
    "#this is to see exactly what python sees, because depending on preset modifications to the website such as preferred location or\n",
    "#currency, what is seen by clicking the link is different from what python sees by scraping\n",
    "with open('aexcode.html', 'w', encoding='UTF8') as f:\n",
    "    f.write(str(aexcode))"
   ]
  },
  {
   "cell_type": "code",
   "execution_count": null,
   "id": "2333eca9",
   "metadata": {},
   "outputs": [],
   "source": [
    "#If u try to use my code you will notice that data from AliExpress is limited to the first 10 reults\n",
    "#The reason all products were not found is because they only appear once we scroll past them.\n",
    "#But for the puspose of this project having all of them will not be necessary."
   ]
  },
  {
   "cell_type": "code",
   "execution_count": 55,
   "id": "4bd89fe1",
   "metadata": {},
   "outputs": [],
   "source": [
    "data1 = aexcode.find_all('h3')\n",
    "aextitles = []\n",
    "for x in range(len(data1)):\n",
    "    aextitles.append(aexcode.find_all('h3')[x].get_text())\n",
    "#aextitles"
   ]
  },
  {
   "cell_type": "code",
   "execution_count": 56,
   "id": "f9cabc43",
   "metadata": {},
   "outputs": [],
   "source": [
    "data2 = aexcode.find_all('a', class_='multi--container--1UZxxHY cards--card--3PJxwBm search-card-item')\n",
    "aexlinks = []\n",
    "for x in range(len(data2)):\n",
    "    aexlinks.append(aexcode.find_all('a', class_='multi--container--1UZxxHY cards--card--3PJxwBm search-card-item')[x].get('href'))\n",
    "#aexlinks"
   ]
  },
  {
   "cell_type": "code",
   "execution_count": 57,
   "id": "95711274",
   "metadata": {},
   "outputs": [],
   "source": [
    "data3 = aexcode.find_all('div', class_='multi--price-sale--U-S0jtj')\n",
    "aexprices = []\n",
    "for x in range(len(data3)):\n",
    "    aexprices.append(aexcode.find_all('div', class_='multi--price-sale--U-S0jtj')[x].get_text())\n",
    "#aexprices"
   ]
  },
  {
   "cell_type": "code",
   "execution_count": 58,
   "id": "be17487d",
   "metadata": {},
   "outputs": [],
   "source": [
    "data4 = aexcode.find_all('div', class_='multi--content--11nFIBL')\n",
    "aexvotes = []\n",
    "for x in range(len(data4)):\n",
    "    aexvotes.append(aexcode.find_all('div', class_='multi--content--11nFIBL')[x].find('span', class_='multi--trade--Ktbl2jB'))\n",
    "    if aexvotes[x] == None:\n",
    "        aexvotes[x] = '-'\n",
    "    else:\n",
    "        aexvotes[x] = aexvotes[x].get_text()\n",
    "#aexvotes"
   ]
  },
  {
   "cell_type": "code",
   "execution_count": 59,
   "id": "73a61147",
   "metadata": {},
   "outputs": [],
   "source": [
    "import csv\n",
    "header = ['Title', 'Price', 'Link', 'Sales Count']\n",
    "with open(\"webscraping project1-AliExpress.csv\", 'w', newline='', encoding='UTF8') as f:\n",
    "    writer = csv.writer(f)\n",
    "    writer.writerow(header)\n",
    "    writer.writerows(zip(aextitles, aexprices, aexlinks, aexvotes))"
   ]
  },
  {
   "cell_type": "code",
   "execution_count": null,
   "id": "2dd65d25",
   "metadata": {},
   "outputs": [],
   "source": []
  },
  {
   "cell_type": "code",
   "execution_count": null,
   "id": "d17cbc68",
   "metadata": {},
   "outputs": [],
   "source": []
  },
  {
   "cell_type": "code",
   "execution_count": null,
   "id": "db56d5d8",
   "metadata": {},
   "outputs": [],
   "source": []
  },
  {
   "cell_type": "code",
   "execution_count": null,
   "id": "e25647ff",
   "metadata": {},
   "outputs": [],
   "source": []
  },
  {
   "cell_type": "code",
   "execution_count": null,
   "id": "22f0360a",
   "metadata": {},
   "outputs": [],
   "source": []
  },
  {
   "cell_type": "code",
   "execution_count": null,
   "id": "4279e8cb",
   "metadata": {},
   "outputs": [],
   "source": []
  },
  {
   "cell_type": "code",
   "execution_count": null,
   "id": "f1c7699b",
   "metadata": {},
   "outputs": [],
   "source": []
  }
 ],
 "metadata": {
  "kernelspec": {
   "display_name": "Python 3 (ipykernel)",
   "language": "python",
   "name": "python3"
  },
  "language_info": {
   "codemirror_mode": {
    "name": "ipython",
    "version": 3
   },
   "file_extension": ".py",
   "mimetype": "text/x-python",
   "name": "python",
   "nbconvert_exporter": "python",
   "pygments_lexer": "ipython3",
   "version": "3.11.5"
  }
 },
 "nbformat": 4,
 "nbformat_minor": 5
}
