{
 "cells": [
  {
   "cell_type": "code",
   "execution_count": 1,
   "id": "eb6b4470",
   "metadata": {},
   "outputs": [],
   "source": [
    "import pandas as pd\n",
    "from bs4 import BeautifulSoup\n",
    "import requests\n",
    "from time import time\n",
    "import datetime"
   ]
  },
  {
   "cell_type": "code",
   "execution_count": 2,
   "id": "d5e5d11b",
   "metadata": {},
   "outputs": [],
   "source": [
    "amzurl = \"https://www.amazon.com/s?k=gaming+table&rh=n%3A1055398%2Cp_72%3A1248915011&dc&ds=v1%3AGX6Xkgs25SPqHK358dqkMmTpuDu%2BGJWhNr9B8WunBPA&qid=1706455511&rnid=1248913011&ref=sr_nr_p_72_1\"\n",
    "headers = {\"User-Agent\": \"Mozilla/5.0 (Windows NT 10.0; Win64; x64) AppleWebKit/537.36 (KHTML, like Gecko) Chrome/120.0.0.0 Safari/537.36 OPR/106.0.0.0\", \"Accept-Encoding\":\"gzip, deflate\", \"Accept\":\"text/html,application/xhtml+xml,application/xml;q=0.9,*/*;q=0.8\", \"DNT\":\"1\",\"Connection\":\"close\", \"Upgrade-Insecure-Requests\":\"1\"}\n",
    "amzpage = requests.get(amzurl,headers=headers)\n",
    "amzcode = BeautifulSoup(amzpage.content, \"html.parser\")"
   ]
  },
  {
   "cell_type": "code",
   "execution_count": 3,
   "id": "cfdc0c97",
   "metadata": {},
   "outputs": [],
   "source": [
    "#this is to see exactly what python sees, because depending on preset modifications to the website such as preferred location or\n",
    "#currency, what is seen by clicking the link is different from what python sees by scraping\n",
    "with open('amzcode.html', 'w', encoding='UTF8') as f:\n",
    "    f.write(str(amzcode))"
   ]
  },
  {
   "cell_type": "code",
   "execution_count": 4,
   "id": "cbe3746d",
   "metadata": {},
   "outputs": [],
   "source": [
    "data1 = amzcode.find_all('span', class_='a-size-base-plus a-color-base a-text-normal')\n",
    "amztitles = []\n",
    "for x in range(len(data1)):\n",
    "    amztitles.append(amzcode.find_all('span', class_='a-size-base-plus a-color-base a-text-normal')[x].get_text())\n",
    "#amztitles"
   ]
  },
  {
   "cell_type": "code",
   "execution_count": 5,
   "id": "3b038873",
   "metadata": {},
   "outputs": [],
   "source": [
    "data2 = amzcode.find_all('a', class_='a-link-normal s-underline-text s-underline-link-text s-link-style a-text-normal')\n",
    "amzlinks = []\n",
    "for x in range(len(data2)):\n",
    "    amzlinks.append('https://www.amazon.com'+ amzcode.find_all('a', class_='a-link-normal s-underline-text s-underline-link-text s-link-style a-text-normal')[x].get('href'))\n",
    "#amzlinks"
   ]
  },
  {
   "cell_type": "code",
   "execution_count": 16,
   "id": "78b7390e",
   "metadata": {},
   "outputs": [],
   "source": [
    "#for some reason there was an inconsistency with the prices after the first 2 entries so it will be scraped from each\n",
    "#product's link directly\n",
    "amzprices = []\n",
    "for x in range(len(data2)):\n",
    "    eachamzpage = requests.get(amzlinks[x],headers=headers)\n",
    "    eachamzcode = BeautifulSoup(eachamzpage.content, \"html.parser\")\n",
    "    data3 = eachamzcode.find_all('span', class_='a-offscreen')\n",
    "    amzprices.append(eachamzcode.find('span', class_='a-offscreen').get_text())\n",
    "#some ads on the website come without a price so the script returns something completely random\n",
    "for x in range(len(amzprices)):\n",
    "    if amzprices[x][0] != '$':\n",
    "        amzprices[x] = 'no price displayed'\n",
    "#amzprices"
   ]
  },
  {
   "cell_type": "code",
   "execution_count": 7,
   "id": "64a8ec03",
   "metadata": {},
   "outputs": [],
   "source": [
    "data3 = amzcode.find_all('span', class_='a-size-base s-underline-text')\n",
    "amzvotes = []\n",
    "for x in range(len(data3)):\n",
    "    amzvotes.append(amzcode.find_all('span', class_='a-size-base s-underline-text')[x].get_text())\n",
    "#amzvotes"
   ]
  },
  {
   "cell_type": "code",
   "execution_count": 17,
   "id": "ff8d307a",
   "metadata": {},
   "outputs": [],
   "source": [
    "import csv\n",
    "header = ['Title', 'Price', 'Link', 'Review Count']\n",
    "with open(\"webscraping project1-Amazon.csv\", 'w', newline='', encoding='UTF8') as f:\n",
    "    writer = csv.writer(f)\n",
    "    writer.writerow(header)\n",
    "    writer.writerows(zip(amztitles, amzprices, amzlinks, amzvotes))"
   ]
  },
  {
   "cell_type": "code",
   "execution_count": null,
   "id": "54116d9f",
   "metadata": {},
   "outputs": [],
   "source": []
  },
  {
   "cell_type": "code",
   "execution_count": null,
   "id": "95711274",
   "metadata": {},
   "outputs": [],
   "source": []
  },
  {
   "cell_type": "code",
   "execution_count": null,
   "id": "be17487d",
   "metadata": {},
   "outputs": [],
   "source": []
  },
  {
   "cell_type": "code",
   "execution_count": null,
   "id": "73a61147",
   "metadata": {},
   "outputs": [],
   "source": []
  },
  {
   "cell_type": "code",
   "execution_count": null,
   "id": "2dd65d25",
   "metadata": {},
   "outputs": [],
   "source": []
  },
  {
   "cell_type": "code",
   "execution_count": null,
   "id": "d17cbc68",
   "metadata": {},
   "outputs": [],
   "source": []
  },
  {
   "cell_type": "code",
   "execution_count": null,
   "id": "db56d5d8",
   "metadata": {},
   "outputs": [],
   "source": []
  },
  {
   "cell_type": "code",
   "execution_count": null,
   "id": "e25647ff",
   "metadata": {},
   "outputs": [],
   "source": []
  },
  {
   "cell_type": "code",
   "execution_count": null,
   "id": "22f0360a",
   "metadata": {},
   "outputs": [],
   "source": []
  },
  {
   "cell_type": "code",
   "execution_count": null,
   "id": "4279e8cb",
   "metadata": {},
   "outputs": [],
   "source": []
  },
  {
   "cell_type": "code",
   "execution_count": null,
   "id": "f1c7699b",
   "metadata": {},
   "outputs": [],
   "source": []
  }
 ],
 "metadata": {
  "kernelspec": {
   "display_name": "Python 3 (ipykernel)",
   "language": "python",
   "name": "python3"
  },
  "language_info": {
   "codemirror_mode": {
    "name": "ipython",
    "version": 3
   },
   "file_extension": ".py",
   "mimetype": "text/x-python",
   "name": "python",
   "nbconvert_exporter": "python",
   "pygments_lexer": "ipython3",
   "version": "3.11.5"
  }
 },
 "nbformat": 4,
 "nbformat_minor": 5
}
