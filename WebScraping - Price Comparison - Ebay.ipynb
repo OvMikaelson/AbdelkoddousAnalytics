{
 "cells": [
  {
   "cell_type": "code",
   "execution_count": 85,
   "id": "eb6b4470",
   "metadata": {},
   "outputs": [],
   "source": [
    "import pandas as pd\n",
    "from bs4 import BeautifulSoup\n",
    "import requests\n",
    "from time import time\n",
    "import datetime"
   ]
  },
  {
   "cell_type": "code",
   "execution_count": 122,
   "id": "fdb87699",
   "metadata": {},
   "outputs": [],
   "source": [
    "ebayurl = \"https://www.ebay.com/sch/i.html?_from=R40&_nkw=gaming+table&_sacat=0&LH_BIN=1&_dmd=1&rt=nc\"\n",
    "headers = {\"User-Agent\": \"Mozilla/5.0 (Windows NT 10.0; Win64; x64) AppleWebKit/537.36 (KHTML, like Gecko) Chrome/120.0.0.0 Safari/537.36 OPR/106.0.0.0\", \"Accept-Encoding\":\"gzip, deflate\", \"Accept\":\"text/html,application/xhtml+xml,application/xml;q=0.9,*/*;q=0.8\", \"DNT\":\"1\",\"Connection\":\"close\", \"Upgrade-Insecure-Requests\":\"1\"}\n",
    "ebaypage = requests.get(ebayurl,headers=headers)\n",
    "ebaycode = BeautifulSoup(ebaypage.content, \"html.parser\")"
   ]
  },
  {
   "cell_type": "code",
   "execution_count": 124,
   "id": "eac1b404",
   "metadata": {},
   "outputs": [],
   "source": [
    "#this is to see exactly what python sees, because depending on preset modifications to the website such as preferred location or\n",
    "#currency, what is seen by clicking the link is different from what python sees by scraping\n",
    "with open('ebaycode.html', 'w', encoding='UTF8') as f:\n",
    "    f.write(str(ebaycode))"
   ]
  },
  {
   "cell_type": "code",
   "execution_count": 125,
   "id": "4bd89fe1",
   "metadata": {},
   "outputs": [],
   "source": [
    "data1 = ebaycode.find_all('div', class_='s-item__title')\n",
    "ebaytitles = []\n",
    "for x in range(len(data1))[1:]:\n",
    "    ebaytitles.append(ebaycode.find_all('div', class_='s-item__title')[x].get_text())\n",
    "#ebaytitles"
   ]
  },
  {
   "cell_type": "code",
   "execution_count": 126,
   "id": "54116d9f",
   "metadata": {},
   "outputs": [],
   "source": [
    "data2 = ebaycode.find_all('a', class_='s-item__link')\n",
    "ebaylinks = []\n",
    "for x in range(len(data2))[1:]:\n",
    "    ebaylinks.append(ebaycode.find_all('a', class_='s-item__link')[x].get('href'))\n",
    "#ebaylinks"
   ]
  },
  {
   "cell_type": "code",
   "execution_count": 127,
   "id": "95711274",
   "metadata": {},
   "outputs": [],
   "source": [
    "data3 = ebaycode.find_all('span', class_='s-item__price')\n",
    "ebayprices = []\n",
    "for x in range(len(data3))[1:]:\n",
    "    ebayprices.append(ebaycode.find_all('span', class_='s-item__price')[x].get_text())\n",
    "#ebayprices"
   ]
  },
  {
   "cell_type": "code",
   "execution_count": 128,
   "id": "be17487d",
   "metadata": {},
   "outputs": [],
   "source": [
    "data4 = ebaycode.find_all('span', class_='s-item__seller-info-text')\n",
    "ebayvotes = []\n",
    "for x in range(len(data4)):\n",
    "    ebayvotes.append(ebaycode.find_all('span', class_='s-item__seller-info-text')[x].get_text())\n",
    "    ebayvotes[x] = ebayvotes[x][ebayvotes[x].find('('):][1:]\n",
    "    ebayvotes[x] = ebayvotes[x][:ebayvotes[x].find(')')]\n",
    "#ebayvotes"
   ]
  },
  {
   "cell_type": "code",
   "execution_count": 129,
   "id": "73a61147",
   "metadata": {},
   "outputs": [],
   "source": [
    "import csv\n",
    "header = ['Title', 'Price', 'Link', 'Seller Review Count']\n",
    "with open(\"webscraping project1-Ebay.csv\", 'w', newline='', encoding='UTF8') as f:\n",
    "    writer = csv.writer(f)\n",
    "    writer.writerow(header)\n",
    "    writer.writerows(zip(ebaytitles, ebayprices, ebaylinks, ebayvotes))"
   ]
  },
  {
   "cell_type": "code",
   "execution_count": null,
   "id": "2dd65d25",
   "metadata": {},
   "outputs": [],
   "source": []
  },
  {
   "cell_type": "code",
   "execution_count": null,
   "id": "d17cbc68",
   "metadata": {},
   "outputs": [],
   "source": []
  },
  {
   "cell_type": "code",
   "execution_count": null,
   "id": "db56d5d8",
   "metadata": {},
   "outputs": [],
   "source": []
  },
  {
   "cell_type": "code",
   "execution_count": null,
   "id": "e25647ff",
   "metadata": {},
   "outputs": [],
   "source": []
  },
  {
   "cell_type": "code",
   "execution_count": null,
   "id": "22f0360a",
   "metadata": {},
   "outputs": [],
   "source": []
  },
  {
   "cell_type": "code",
   "execution_count": null,
   "id": "4279e8cb",
   "metadata": {},
   "outputs": [],
   "source": []
  },
  {
   "cell_type": "code",
   "execution_count": null,
   "id": "f1c7699b",
   "metadata": {},
   "outputs": [],
   "source": []
  }
 ],
 "metadata": {
  "kernelspec": {
   "display_name": "Python 3 (ipykernel)",
   "language": "python",
   "name": "python3"
  },
  "language_info": {
   "codemirror_mode": {
    "name": "ipython",
    "version": 3
   },
   "file_extension": ".py",
   "mimetype": "text/x-python",
   "name": "python",
   "nbconvert_exporter": "python",
   "pygments_lexer": "ipython3",
   "version": "3.11.5"
  }
 },
 "nbformat": 4,
 "nbformat_minor": 5
}
